{
 "cells": [
  {
   "cell_type": "markdown",
   "metadata": {},
   "source": [
    "# Import and load data"
   ]
  },
  {
   "cell_type": "code",
   "execution_count": 1,
   "metadata": {},
   "outputs": [],
   "source": [
    "import time\n",
    "import numpy as np\n",
    "import pandas as pd\n",
    "from scipy.io import mmread\n",
    "from sklearn.metrics import silhouette_score\n",
    "import matplotlib\n",
    "import csv\n",
    "import matplotlib.pyplot as plt\n",
    "from sklearn.cluster import SpectralClustering\n",
    "%matplotlib inline"
   ]
  },
  {
   "cell_type": "code",
   "execution_count": 2,
   "metadata": {},
   "outputs": [],
   "source": [
    "data_DF = pd.read_csv('diffusion_map_20_eigen.tsv', sep='\\t',header=None)\n",
    "data_DF = np.asarray(data_DF)\n",
    "\n",
    "data_TSNE = pd.read_csv('tsne_3.tsv', sep='\\t',header=None)\n",
    "data_TSNE = np.asarray(data_TSNE)\n",
    "\n",
    "data_SVD = pd.read_csv('truncatedsvd_20.tsv', sep='\\t',header=None)\n",
    "data_SVD = np.asarray(data_SVD)\n",
    "\n",
    "data_PCA = pd.read_csv('pca_20.csv',header=None)\n",
    "data_PCA = np.asarray(data_PCA)"
   ]
  },
  {
   "cell_type": "markdown",
   "metadata": {},
   "source": [
    "# Spectural clustering for diffusion map"
   ]
  },
  {
   "cell_type": "markdown",
   "metadata": {},
   "source": [
    "## Run K=[5,15,25] each for 3 trials"
   ]
  },
  {
   "cell_type": "code",
   "execution_count": null,
   "metadata": {},
   "outputs": [],
   "source": [
    "runtime_all = []\n",
    "score_all = []\n",
    "for K in [5,15,25]:\n",
    "    time_trial = []\n",
    "    score_trial = []\n",
    "    fig, axes = plt.subplots(nrows=1, ncols=3)\n",
    "    fig.set_size_inches(18.5, 5.5)\n",
    "    plt.close()\n",
    "    fig.suptitle('Spectural clustering for K =' + str(K))\n",
    "    count = 0\n",
    "    while count<3:\n",
    "        start = time.time()\n",
    "        y_pred = SpectralClustering(n_clusters=K, assign_labels='kmeans').fit_predict(data_DF)\n",
    "        end = time.time()\n",
    "        runtime = end-start\n",
    "        \n",
    "        score = silhouette_score(data_DF, y_pred)\n",
    "        axes[count].scatter(data_DF[:, 0], data_DF[:, 1], c=y_pred)\n",
    "        axes[count].set_xlabel('Diffussion Map 1')\n",
    "        axes[count].set_ylabel('Diffusion Map 2')\n",
    "        time_trial.append(runtime)\n",
    "        score_trial.append(score)\n",
    "        count += 1\n",
    "    name = 'DF_spectural'+str(K)+'.jpg'\n",
    "    fig.savefig(name)\n",
    "    runtime_K = np.mean(time_trial)\n",
    "    runtime_all.append(runtime_K)\n",
    "    score_K = np.mean(score_trial)\n",
    "    score_all.append(score_K)"
   ]
  },
  {
   "cell_type": "code",
   "execution_count": null,
   "metadata": {},
   "outputs": [],
   "source": [
    "np.savetxt(\"DF_spectural_silhouette.csv\", score_all, delimiter=\",\") \n",
    "np.savetxt(\"DF_spectural_runtime.csv\", runtime_all, delimiter=\",\") "
   ]
  },
  {
   "cell_type": "markdown",
   "metadata": {},
   "source": [
    "## Run K = 25 for 15 trials and gather the predicted label"
   ]
  },
  {
   "cell_type": "code",
   "execution_count": null,
   "metadata": {},
   "outputs": [],
   "source": [
    "runtime_all = []\n",
    "score_all = []\n",
    "y_pred_all = np.zeros(data_DF.shape[0]).reshape(data_DF.shape[0],1)\n",
    "for K in [25]:\n",
    "    time_trial = []\n",
    "    score_trial = []\n",
    "\n",
    "    count = 0\n",
    "    while count<15:\n",
    "        start = time.time()\n",
    "        y_pred = SpectralClustering(n_clusters=K, assign_labels='kmeans').fit_predict(data_DF)\n",
    "        end = time.time()\n",
    "        runtime = end-start\n",
    "        \n",
    "        score = silhouette_score(data_DF, y_pred)\n",
    "        time_trial.append(runtime)\n",
    "        score_trial.append(score)\n",
    "        count += 1\n",
    "        y_pred_all = np.concatenate((y_pred_all, y_pred.reshape(data_DF.shape[0],1)),axis=1)\n",
    "    runtime_K = np.mean(time_trial)\n",
    "    runtime_all.append(runtime_K)\n",
    "    score_K = np.mean(score_trial)\n",
    "    score_all.append(score_K)\n",
    "    y_pred_all = y_pred_all[:,1:16].astype(int)"
   ]
  },
  {
   "cell_type": "code",
   "execution_count": null,
   "metadata": {},
   "outputs": [],
   "source": [
    "np.savetxt(\"DF_spectural_ypred25.csv\", y_pred_all, delimiter=\",\") \n",
    "np.savetxt(\"DF_spectural_silhouette25.csv\", score_all, delimiter=\",\") \n",
    "np.savetxt(\"DF_spectural_runtime25.csv\", runtime_all, delimiter=\",\") "
   ]
  },
  {
   "cell_type": "markdown",
   "metadata": {},
   "source": [
    "# Spectural clustering for PCA"
   ]
  },
  {
   "cell_type": "markdown",
   "metadata": {},
   "source": [
    "## Run K=[5,15,25] each for 3 trials"
   ]
  },
  {
   "cell_type": "code",
   "execution_count": null,
   "metadata": {},
   "outputs": [],
   "source": [
    "runtime_all = []\n",
    "score_all = []\n",
    "for K in [5,15,25]:\n",
    "    time_trial = []\n",
    "    score_trial = []\n",
    "    fig, axes = plt.subplots(nrows=1, ncols=3)\n",
    "    fig.set_size_inches(18.5, 5.5)\n",
    "    plt.close()\n",
    "    \n",
    "    fig.suptitle('Spectural clustering for K =' + str(K))\n",
    "    count = 0\n",
    "    while count<3:\n",
    "        start = time.time()\n",
    "        y_pred = SpectralClustering(n_clusters=K, assign_labels='kmeans').fit_predict(data_PCA)\n",
    "        end = time.time()\n",
    "        runtime = end-start\n",
    "        \n",
    "        score = silhouette_score(data_PCA, y_pred)\n",
    "        axes[count].scatter(data_PCA[:, 0], data_PCA[:, 1], c=y_pred)\n",
    "        axes[count].set_xlabel('PCA 1')\n",
    "        axes[count].set_ylabel('PCA 2')\n",
    "        time_trial.append(runtime)\n",
    "        score_trial.append(score)\n",
    "        count += 1\n",
    "    name = 'PCA_spectural'+str(K)+'.jpg'\n",
    "    fig.savefig(name)\n",
    "    runtime_K = np.mean(time_trial)\n",
    "    runtime_all.append(runtime_K)\n",
    "    score_K = np.mean(score_trial)\n",
    "    score_all.append(score_K)"
   ]
  },
  {
   "cell_type": "code",
   "execution_count": null,
   "metadata": {},
   "outputs": [],
   "source": [
    "np.savetxt(\"PCA_spectural_silhouette.csv\", score_all, delimiter=\",\") \n",
    "np.savetxt(\"PCA_spectural_runtime.csv\", runtime_all, delimiter=\",\") "
   ]
  },
  {
   "cell_type": "markdown",
   "metadata": {},
   "source": [
    "## Run K = 25 for 15 trials and gather the predicted label"
   ]
  },
  {
   "cell_type": "code",
   "execution_count": null,
   "metadata": {},
   "outputs": [],
   "source": [
    "runtime_all = []\n",
    "score_all = []\n",
    "y_pred_all = np.zeros(data_DF.shape[0]).reshape(data_PCA.shape[0],1)\n",
    "for K in [25]:\n",
    "    time_trial = []\n",
    "    score_trial = []\n",
    "\n",
    "    count = 0\n",
    "    while count<15:\n",
    "        start = time.time()\n",
    "        y_pred = SpectralClustering(n_clusters=K, assign_labels='kmeans').fit_predict(data_PCA)\n",
    "        end = time.time()\n",
    "        runtime = end-start\n",
    "        \n",
    "        score = silhouette_score(data_PCA, y_pred)\n",
    "        time_trial.append(runtime)\n",
    "        score_trial.append(score)\n",
    "        count += 1\n",
    "        y_pred_all = np.concatenate((y_pred_all, y_pred.reshape(data_DF.shape[0],1)),axis=1)\n",
    "    runtime_K = np.mean(time_trial)\n",
    "    runtime_all.append(runtime_K)\n",
    "    score_K = np.mean(score_trial)\n",
    "    score_all.append(score_K)\n",
    "    y_pred_all = y_pred_all[:,1:16].astype(int)"
   ]
  },
  {
   "cell_type": "code",
   "execution_count": null,
   "metadata": {},
   "outputs": [],
   "source": [
    "np.savetxt(\"PCA_spectural_ypred25.csv\", y_pred_all, delimiter=\",\") \n",
    "np.savetxt(\"PCA_spectural_silhouette25.csv\", score_all, delimiter=\",\") \n",
    "np.savetxt(\"PCA_spectural_runtime25.csv\", runtime_all, delimiter=\",\") "
   ]
  },
  {
   "cell_type": "markdown",
   "metadata": {},
   "source": [
    "# Spectural clustering for TSNE"
   ]
  },
  {
   "cell_type": "code",
   "execution_count": null,
   "metadata": {},
   "outputs": [],
   "source": [
    "runtime_all = []\n",
    "score_all = []\n",
    "for K in [5,15,25]:\n",
    "    time_trial = []\n",
    "    score_trial = []\n",
    "    fig, axes = plt.subplots(nrows=1, ncols=3)\n",
    "    fig.set_size_inches(18.5, 5.5)\n",
    "    plt.close()\n",
    "    \n",
    "    fig.suptitle('Spectural clustering for K =' + str(K))\n",
    "    count = 0\n",
    "    while count<3:\n",
    "        start = time.time()\n",
    "        y_pred = SpectralClustering(n_clusters=K, assign_labels='kmeans').fit_predict(data_TSNE)\n",
    "        end = time.time()\n",
    "        runtime = end-start\n",
    "        \n",
    "        score = silhouette_score(data_TSNE, y_pred)\n",
    "        axes[count].scatter(data_TSNE[:, 0], data_TSNE[:, 1], c=y_pred)\n",
    "        axes[count].set_xlabel('TSNE 1')\n",
    "        axes[count].set_ylabel('TSNE 2')\n",
    "        time_trial.append(runtime)\n",
    "        score_trial.append(score)\n",
    "        count += 1\n",
    "    name = 'TSNE_spectural'+str(K)+'.jpg'\n",
    "    fig.savefig(name)\n",
    "    runtime_K = np.mean(time_trial)\n",
    "    runtime_all.append(runtime_K)\n",
    "    score_K = np.mean(score_trial)\n",
    "    score_all.append(score_K)\n",
    "    \n",
    "np.savetxt(\"TSNE_spectural_silhouette.csv\", score_all, delimiter=\",\") \n",
    "np.savetxt(\"TSNE_spectural_runtime.csv\", runtime_all, delimiter=\",\") "
   ]
  },
  {
   "cell_type": "code",
   "execution_count": null,
   "metadata": {},
   "outputs": [],
   "source": [
    "runtime_all = []\n",
    "score_all = []\n",
    "y_pred_all = np.zeros(data_TSNE.shape[0]).reshape(data_TSNE.shape[0],1)\n",
    "for K in [25]:\n",
    "    time_trial = []\n",
    "    score_trial = []\n",
    "\n",
    "    count = 0\n",
    "    while count<15:\n",
    "        start = time.time()\n",
    "        y_pred = SpectralClustering(n_clusters=K, assign_labels='kmeans').fit_predict(data_TSNE)\n",
    "        end = time.time()\n",
    "        runtime = end-start\n",
    "        \n",
    "        score = silhouette_score(data_TSNE, y_pred)\n",
    "        time_trial.append(runtime)\n",
    "        score_trial.append(score)\n",
    "        count += 1\n",
    "        y_pred_all = np.concatenate((y_pred_all, y_pred.reshape(data_TSNE.shape[0],1)),axis=1)\n",
    "    runtime_K = np.mean(time_trial)\n",
    "    runtime_all.append(runtime_K)\n",
    "    score_K = np.mean(score_trial)\n",
    "    score_all.append(score_K)\n",
    "    y_pred_all = y_pred_all[:,1:16].astype(int)\n",
    "    \n",
    "np.savetxt(\"TSNE_spectural_ypred25.csv\", y_pred_all, delimiter=\",\") \n",
    "np.savetxt(\"TSNE_spectural_silhouette25.csv\", score_all, delimiter=\",\") \n",
    "np.savetxt(\"TSNE_spectural_runtime25.csv\", runtime_all, delimiter=\",\") "
   ]
  },
  {
   "cell_type": "markdown",
   "metadata": {},
   "source": [
    "# Spectural clustering for SVD"
   ]
  },
  {
   "cell_type": "code",
   "execution_count": null,
   "metadata": {},
   "outputs": [],
   "source": [
    "runtime_all = []\n",
    "score_all = []\n",
    "for K in [5,15,25]:\n",
    "    time_trial = []\n",
    "    score_trial = []\n",
    "    fig, axes = plt.subplots(nrows=1, ncols=3)\n",
    "    fig.set_size_inches(18.5, 5.5)\n",
    "    plt.close()\n",
    "    \n",
    "    fig.suptitle('Spectural clustering for K =' + str(K))\n",
    "    count = 0\n",
    "    while count<3:\n",
    "        start = time.time()\n",
    "        y_pred = SpectralClustering(n_clusters=K, assign_labels='kmeans').fit_predict(data_SVD)\n",
    "        end = time.time()\n",
    "        runtime = end-start\n",
    "        \n",
    "        score = silhouette_score(data_SVD, y_pred)\n",
    "        axes[count].scatter(data_SVD[:, 0], data_SVD[:, 1], c=y_pred)\n",
    "        axes[count].set_xlabel('SVD 1')\n",
    "        axes[count].set_ylabel('SVD 2')\n",
    "        time_trial.append(runtime)\n",
    "        score_trial.append(score)\n",
    "        count += 1\n",
    "    name = 'SVD_spectural'+str(K)+'.jpg'\n",
    "    fig.savefig(name)\n",
    "    runtime_K = np.mean(time_trial)\n",
    "    runtime_all.append(runtime_K)\n",
    "    score_K = np.mean(score_trial)\n",
    "    score_all.append(score_K)\n",
    "    \n",
    "np.savetxt(\"SVD_spectural_silhouette.csv\", score_all, delimiter=\",\") \n",
    "np.savetxt(\"SVD_spectural_runtime.csv\", runtime_all, delimiter=\",\") "
   ]
  },
  {
   "cell_type": "code",
   "execution_count": null,
   "metadata": {},
   "outputs": [],
   "source": [
    "runtime_all = []\n",
    "score_all = []\n",
    "y_pred_all = np.zeros(data_SVD.shape[0]).reshape(data_SVD.shape[0],1)\n",
    "for K in [25]:\n",
    "    time_trial = []\n",
    "    score_trial = []\n",
    "\n",
    "    count = 0\n",
    "    while count<15:\n",
    "        start = time.time()\n",
    "        y_pred = SpectralClustering(n_clusters=K, assign_labels='kmeans').fit_predict(data_SVD)\n",
    "        end = time.time()\n",
    "        runtime = end-start\n",
    "        \n",
    "        score = silhouette_score(data_SVD, y_pred)\n",
    "        time_trial.append(runtime)\n",
    "        score_trial.append(score)\n",
    "        count += 1\n",
    "        y_pred_all = np.concatenate((y_pred_all, y_pred.reshape(data_SVD.shape[0],1)),axis=1)\n",
    "    runtime_K = np.mean(time_trial)\n",
    "    runtime_all.append(runtime_K)\n",
    "    score_K = np.mean(score_trial)\n",
    "    score_all.append(score_K)\n",
    "    y_pred_all = y_pred_all[:,1:16].astype(int)\n",
    "    \n",
    "np.savetxt(\"SVD_spectural_ypred25.csv\", y_pred_all, delimiter=\",\") \n",
    "np.savetxt(\"SVD_spectural_silhouette25.csv\", score_all, delimiter=\",\") \n",
    "np.savetxt(\"SVD_spectural_runtime25.csv\", runtime_all, delimiter=\",\") "
   ]
  }
 ],
 "metadata": {
  "kernelspec": {
   "display_name": "Python 3",
   "language": "python",
   "name": "python3"
  },
  "language_info": {
   "codemirror_mode": {
    "name": "ipython",
    "version": 3
   },
   "file_extension": ".py",
   "mimetype": "text/x-python",
   "name": "python",
   "nbconvert_exporter": "python",
   "pygments_lexer": "ipython3",
   "version": "3.7.6"
  }
 },
 "nbformat": 4,
 "nbformat_minor": 5
}
