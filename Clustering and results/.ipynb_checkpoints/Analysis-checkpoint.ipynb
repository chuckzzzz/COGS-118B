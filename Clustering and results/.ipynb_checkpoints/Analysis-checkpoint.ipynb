{
 "cells": [
  {
   "cell_type": "code",
   "execution_count": 1,
   "metadata": {},
   "outputs": [],
   "source": [
    "import os\n",
    "import pandas as pd\n",
    "import numpy as np"
   ]
  },
  {
   "cell_type": "code",
   "execution_count": 2,
   "metadata": {},
   "outputs": [],
   "source": [
    "red = [\"DF\", \"PCA\", \"SVD\", \"TSNE\"]\n",
    "\n",
    "alg = [\"Gussian\", \"Kmeans\", \"Spectural\"]\n",
    "\n",
    "K = [\"K=5\", \"K=15\", \"K=25\"]"
   ]
  },
  {
   "cell_type": "markdown",
   "metadata": {},
   "source": [
    "# Tables for clustering algorithm vs dimension reduction"
   ]
  },
  {
   "cell_type": "code",
   "execution_count": 3,
   "metadata": {},
   "outputs": [
    {
     "name": "stdout",
     "output_type": "stream",
     "text": [
      "DF_gaussian_silhouette.csv\n",
      "PCA_gaussian_silhouette.csv\n",
      "SVD_gaussian_silhouette.csv\n",
      "TSNE_gaussian_silhouette.csv\n",
      "DF_kmeans_silhouette.csv\n",
      "PCA_kmeans_silhouette.csv\n",
      "SVD_kmeans_silhouette.csv\n",
      "TSNE_kmeans_silhouette.csv\n",
      "DF_spectural_silhouette.csv\n",
      "PCA_spectural_silhouette.csv\n"
     ]
    }
   ],
   "source": [
    "import os\n",
    "\n",
    "directory = os.fsencode(\"Raw_scores\")\n",
    "\n",
    "scorek25_gaussian = []\n",
    "for file in sorted(os.listdir(directory)):\n",
    "    filename = os.fsdecode(file)\n",
    "    if filename.endswith(\"_gaussian_silhouette.csv\"): \n",
    "        print(filename)\n",
    "        filename = os.path.join(\"Raw_scores\", filename)\n",
    "        df = pd.read_csv(filename, header=None)\n",
    "        df = np.asarray(df)\n",
    "        scorek25_gaussian.append(df[2,0])\n",
    "        continue\n",
    "    else:\n",
    "        continue\n",
    "        \n",
    "scorek25_gaussian = np.asarray(scorek25_gaussian)\n",
    "\n",
    "\n",
    "scorek25_kmeans = []\n",
    "for file in sorted(os.listdir(directory)):\n",
    "    filename = os.fsdecode(file)\n",
    "    if filename.endswith(\"_kmeans_silhouette.csv\"): \n",
    "        print(filename)\n",
    "        filename = os.path.join(\"Raw_scores\", filename)\n",
    "        df = pd.read_csv(filename, header=None)\n",
    "        df = np.asarray(df)\n",
    "        scorek25_kmeans.append(df[2,0])\n",
    "        continue\n",
    "    else:\n",
    "        continue\n",
    "        \n",
    "scorek25_kmeans = np.asarray(scorek25_kmeans)\n",
    "\n",
    "\n",
    "scorek25_spectural = []\n",
    "for file in sorted(os.listdir(directory)):\n",
    "    filename = os.fsdecode(file)\n",
    "    if filename.endswith(\"_spectural_silhouette.csv\"): \n",
    "        print(filename)\n",
    "        filename = os.path.join(\"Raw_scores\", filename)\n",
    "        df = pd.read_csv(filename, header=None)\n",
    "        df = np.asarray(df)\n",
    "        scorek25_spectural.append(df[2,0])\n",
    "        continue\n",
    "    else:\n",
    "        continue\n",
    "        \n",
    "scorek25_spectural = np.asarray(scorek25_spectural)"
   ]
  },
  {
   "cell_type": "code",
   "execution_count": 4,
   "metadata": {},
   "outputs": [
    {
     "data": {
      "text/html": [
       "<div>\n",
       "<style scoped>\n",
       "    .dataframe tbody tr th:only-of-type {\n",
       "        vertical-align: middle;\n",
       "    }\n",
       "\n",
       "    .dataframe tbody tr th {\n",
       "        vertical-align: top;\n",
       "    }\n",
       "\n",
       "    .dataframe thead th {\n",
       "        text-align: right;\n",
       "    }\n",
       "</style>\n",
       "<table border=\"1\" class=\"dataframe\">\n",
       "  <thead>\n",
       "    <tr style=\"text-align: right;\">\n",
       "      <th></th>\n",
       "      <th>DF</th>\n",
       "      <th>PCA</th>\n",
       "      <th>SVD</th>\n",
       "      <th>TSNE</th>\n",
       "    </tr>\n",
       "  </thead>\n",
       "  <tbody>\n",
       "    <tr>\n",
       "      <th>Gussian</th>\n",
       "      <td>0.281269</td>\n",
       "      <td>-0.068773</td>\n",
       "      <td>0.121142</td>\n",
       "      <td>0.200090</td>\n",
       "    </tr>\n",
       "    <tr>\n",
       "      <th>Kmeans</th>\n",
       "      <td>0.282533</td>\n",
       "      <td>0.146498</td>\n",
       "      <td>0.312735</td>\n",
       "      <td>0.217828</td>\n",
       "    </tr>\n",
       "    <tr>\n",
       "      <th>Spectural</th>\n",
       "      <td>0.206650</td>\n",
       "      <td>-0.514285</td>\n",
       "      <td>NaN</td>\n",
       "      <td>NaN</td>\n",
       "    </tr>\n",
       "  </tbody>\n",
       "</table>\n",
       "</div>"
      ],
      "text/plain": [
       "                 DF       PCA       SVD      TSNE\n",
       "Gussian    0.281269 -0.068773  0.121142  0.200090\n",
       "Kmeans     0.282533  0.146498  0.312735  0.217828\n",
       "Spectural  0.206650 -0.514285       NaN       NaN"
      ]
     },
     "execution_count": 4,
     "metadata": {},
     "output_type": "execute_result"
    }
   ],
   "source": [
    "alg_vs_red = np.concatenate((scorek25_gaussian.reshape(1,4), scorek25_kmeans.reshape(1,4)),axis=0)\n",
    "scorek25_spectural = np.append(scorek25_spectural, [np.NaN, np.NaN])\n",
    "\n",
    "alg_vs_red = np.concatenate((alg_vs_red, scorek25_spectural.reshape(1,4)),axis=0)\n",
    "\n",
    "df_alg_vs_red = pd.DataFrame(alg_vs_red, columns = red, index = alg)\n",
    "\n",
    "df_alg_vs_red"
   ]
  },
  {
   "cell_type": "code",
   "execution_count": 5,
   "metadata": {},
   "outputs": [],
   "source": [
    "df_alg_vs_red.to_csv(\"Tables/alg_red\")"
   ]
  },
  {
   "cell_type": "code",
   "execution_count": 6,
   "metadata": {},
   "outputs": [
    {
     "name": "stdout",
     "output_type": "stream",
     "text": [
      "DF_gaussian_runtime.csv\n",
      "PCA_gaussian_runtime.csv\n",
      "SVD_gaussian_runtime.csv\n",
      "TSNE_gaussian_runtime.csv\n",
      "DF_kmeans_runtime.csv\n",
      "PCA_kmeans_runtime.csv\n",
      "SVD_kmeans_runtime.csv\n",
      "TSNE_kmeans_runtime.csv\n",
      "DF_spectural_runtime.csv\n",
      "PCA_spectural_runtime.csv\n"
     ]
    }
   ],
   "source": [
    "import os\n",
    "\n",
    "directory = os.fsencode(\"Raw_scores\")\n",
    "\n",
    "scorek25_gaussian = []\n",
    "for file in sorted(os.listdir(directory)):\n",
    "    filename = os.fsdecode(file)\n",
    "    if filename.endswith(\"_gaussian_runtime.csv\"): \n",
    "        print(filename)\n",
    "        filename = os.path.join(\"Raw_scores\", filename)\n",
    "        df = pd.read_csv(filename, header=None)\n",
    "        df = np.asarray(df)\n",
    "        scorek25_gaussian.append(df[2,0])\n",
    "        continue\n",
    "    else:\n",
    "        continue\n",
    "        \n",
    "scorek25_gaussian = np.asarray(scorek25_gaussian)\n",
    "\n",
    "\n",
    "scorek25_kmeans = []\n",
    "for file in sorted(os.listdir(directory)):\n",
    "    filename = os.fsdecode(file)\n",
    "    if filename.endswith(\"_kmeans_runtime.csv\"): \n",
    "        print(filename)\n",
    "        filename = os.path.join(\"Raw_scores\", filename)\n",
    "        df = pd.read_csv(filename, header=None)\n",
    "        df = np.asarray(df)\n",
    "        scorek25_kmeans.append(df[2,0])\n",
    "        continue\n",
    "    else:\n",
    "        continue\n",
    "        \n",
    "scorek25_kmeans = np.asarray(scorek25_kmeans)\n",
    "\n",
    "\n",
    "scorek25_spectural = []\n",
    "for file in sorted(os.listdir(directory)):\n",
    "    filename = os.fsdecode(file)\n",
    "    if filename.endswith(\"_spectural_runtime.csv\"): \n",
    "        print(filename)\n",
    "        filename = os.path.join(\"Raw_scores\", filename)\n",
    "        df = pd.read_csv(filename, header=None)\n",
    "        df = np.asarray(df)\n",
    "        scorek25_spectural.append(df[2,0])\n",
    "        continue\n",
    "    else:\n",
    "        continue\n",
    "        \n",
    "scorek25_spectural = np.asarray(scorek25_spectural)"
   ]
  },
  {
   "cell_type": "code",
   "execution_count": 7,
   "metadata": {},
   "outputs": [
    {
     "data": {
      "text/html": [
       "<div>\n",
       "<style scoped>\n",
       "    .dataframe tbody tr th:only-of-type {\n",
       "        vertical-align: middle;\n",
       "    }\n",
       "\n",
       "    .dataframe tbody tr th {\n",
       "        vertical-align: top;\n",
       "    }\n",
       "\n",
       "    .dataframe thead th {\n",
       "        text-align: right;\n",
       "    }\n",
       "</style>\n",
       "<table border=\"1\" class=\"dataframe\">\n",
       "  <thead>\n",
       "    <tr style=\"text-align: right;\">\n",
       "      <th></th>\n",
       "      <th>DF</th>\n",
       "      <th>PCA</th>\n",
       "      <th>SVD</th>\n",
       "      <th>TSNE</th>\n",
       "    </tr>\n",
       "  </thead>\n",
       "  <tbody>\n",
       "    <tr>\n",
       "      <th>Gussian</th>\n",
       "      <td>133.714700</td>\n",
       "      <td>621.599764</td>\n",
       "      <td>324.210446</td>\n",
       "      <td>26.114532</td>\n",
       "    </tr>\n",
       "    <tr>\n",
       "      <th>Kmeans</th>\n",
       "      <td>0.556748</td>\n",
       "      <td>58.317501</td>\n",
       "      <td>49.632494</td>\n",
       "      <td>0.309943</td>\n",
       "    </tr>\n",
       "    <tr>\n",
       "      <th>Spectural</th>\n",
       "      <td>910.112713</td>\n",
       "      <td>844.378302</td>\n",
       "      <td>NaN</td>\n",
       "      <td>NaN</td>\n",
       "    </tr>\n",
       "  </tbody>\n",
       "</table>\n",
       "</div>"
      ],
      "text/plain": [
       "                   DF         PCA         SVD       TSNE\n",
       "Gussian    133.714700  621.599764  324.210446  26.114532\n",
       "Kmeans       0.556748   58.317501   49.632494   0.309943\n",
       "Spectural  910.112713  844.378302         NaN        NaN"
      ]
     },
     "execution_count": 7,
     "metadata": {},
     "output_type": "execute_result"
    }
   ],
   "source": [
    "alg_vs_red = np.concatenate((scorek25_gaussian.reshape(1,4), scorek25_kmeans.reshape(1,4)),axis=0)\n",
    "scorek25_spectural = np.append(scorek25_spectural, [np.NaN, np.NaN])\n",
    "\n",
    "alg_vs_red = np.concatenate((alg_vs_red, scorek25_spectural.reshape(1,4)),axis=0)\n",
    "\n",
    "df_alg_vs_red = pd.DataFrame(alg_vs_red, columns = red, index = alg)\n",
    "\n",
    "df_alg_vs_red"
   ]
  },
  {
   "cell_type": "code",
   "execution_count": 8,
   "metadata": {},
   "outputs": [],
   "source": [
    "df_alg_vs_red.to_csv(\"Tables/alg_red_runtime\")"
   ]
  },
  {
   "cell_type": "markdown",
   "metadata": {},
   "source": [
    "# Table for K vs clustering algorithm¶"
   ]
  },
  {
   "cell_type": "code",
   "execution_count": 9,
   "metadata": {},
   "outputs": [
    {
     "name": "stdout",
     "output_type": "stream",
     "text": [
      "DF_gaussian_silhouette.csv\n",
      "PCA_gaussian_silhouette.csv\n",
      "SVD_gaussian_silhouette.csv\n",
      "TSNE_gaussian_silhouette.csv\n",
      "DF_kmeans_silhouette.csv\n",
      "PCA_kmeans_silhouette.csv\n",
      "SVD_kmeans_silhouette.csv\n",
      "TSNE_kmeans_silhouette.csv\n",
      "DF_spectural_silhouette.csv\n",
      "PCA_spectural_silhouette.csv\n"
     ]
    }
   ],
   "source": [
    "scoreall_gaussian = np.zeros(3)\n",
    "scoreall_gaussian = scoreall_gaussian.reshape(1,3)\n",
    "for file in sorted(os.listdir(directory)):\n",
    "    filename = os.fsdecode(file)\n",
    "    if filename.endswith(\"_gaussian_silhouette.csv\"): \n",
    "        print(filename)\n",
    "        filename = os.path.join(\"Raw_scores\", filename)\n",
    "        df = pd.read_csv(filename, header=None)\n",
    "        df = np.asarray(df)\n",
    "        \n",
    "        scoreall_gaussian = np.concatenate((scoreall_gaussian, df.reshape(1,3)), axis=0)\n",
    "        continue\n",
    "    else:\n",
    "        continue\n",
    "scoreall_gaussian = scoreall_gaussian[1:5,:]\n",
    "\n",
    "\n",
    "\n",
    "scoreall_kmeans = np.zeros(3)\n",
    "scoreall_kmeans = scoreall_kmeans.reshape(1,3)\n",
    "for file in sorted(os.listdir(directory)):\n",
    "    filename = os.fsdecode(file)\n",
    "    if filename.endswith(\"_kmeans_silhouette.csv\"): \n",
    "        print(filename)\n",
    "        filename = os.path.join(\"Raw_scores\", filename)\n",
    "        df = pd.read_csv(filename, header=None)\n",
    "        df = np.asarray(df)\n",
    "        \n",
    "        scoreall_kmeans = np.concatenate((scoreall_kmeans, df.reshape(1,3)), axis=0)\n",
    "        continue\n",
    "    else:\n",
    "        continue\n",
    "scoreall_kmeans = scoreall_kmeans[1:5,:]\n",
    "\n",
    "\n",
    "scoreall_spectural = np.zeros(3)\n",
    "scoreall_spectural = scoreall_spectural.reshape(1,3)\n",
    "for file in sorted(os.listdir(directory)):\n",
    "    filename = os.fsdecode(file)\n",
    "    if filename.endswith(\"_spectural_silhouette.csv\"): \n",
    "        print(filename)\n",
    "        filename = os.path.join(\"Raw_scores\", filename)\n",
    "        df = pd.read_csv(filename, header=None)\n",
    "        df = np.asarray(df)\n",
    "        \n",
    "        scoreall_spectural = np.concatenate((scoreall_spectural, df.reshape(1,3)), axis=0)\n",
    "        continue\n",
    "    else:\n",
    "        continue\n",
    "scoreall_spectural = scoreall_spectural[1:5,:]\n"
   ]
  },
  {
   "cell_type": "code",
   "execution_count": 10,
   "metadata": {},
   "outputs": [
    {
     "data": {
      "text/html": [
       "<div>\n",
       "<style scoped>\n",
       "    .dataframe tbody tr th:only-of-type {\n",
       "        vertical-align: middle;\n",
       "    }\n",
       "\n",
       "    .dataframe tbody tr th {\n",
       "        vertical-align: top;\n",
       "    }\n",
       "\n",
       "    .dataframe thead th {\n",
       "        text-align: right;\n",
       "    }\n",
       "</style>\n",
       "<table border=\"1\" class=\"dataframe\">\n",
       "  <thead>\n",
       "    <tr style=\"text-align: right;\">\n",
       "      <th></th>\n",
       "      <th>K=5</th>\n",
       "      <th>K=15</th>\n",
       "      <th>K=25</th>\n",
       "    </tr>\n",
       "  </thead>\n",
       "  <tbody>\n",
       "    <tr>\n",
       "      <th>Gussian</th>\n",
       "      <td>0.122547</td>\n",
       "      <td>0.127371</td>\n",
       "      <td>0.133432</td>\n",
       "    </tr>\n",
       "    <tr>\n",
       "      <th>Kmeans</th>\n",
       "      <td>0.248862</td>\n",
       "      <td>0.246748</td>\n",
       "      <td>0.239899</td>\n",
       "    </tr>\n",
       "    <tr>\n",
       "      <th>Spectural</th>\n",
       "      <td>-0.050776</td>\n",
       "      <td>-0.116470</td>\n",
       "      <td>-0.153818</td>\n",
       "    </tr>\n",
       "  </tbody>\n",
       "</table>\n",
       "</div>"
      ],
      "text/plain": [
       "                K=5      K=15      K=25\n",
       "Gussian    0.122547  0.127371  0.133432\n",
       "Kmeans     0.248862  0.246748  0.239899\n",
       "Spectural -0.050776 -0.116470 -0.153818"
      ]
     },
     "execution_count": 10,
     "metadata": {},
     "output_type": "execute_result"
    }
   ],
   "source": [
    "alg_vs_k = np.concatenate((np.mean(scoreall_gaussian,axis=0).reshape(1,3), np.mean(scoreall_kmeans,axis=0).reshape(1,3)), axis=0)\n",
    "\n",
    "alg_vs_k = np.concatenate((alg_vs_k, np.mean(scoreall_spectural,axis=0).reshape(1,3)),axis=0)\n",
    "\n",
    "df_alg_vs_k = pd.DataFrame(alg_vs_k, columns = K, index = alg)\n",
    "\n",
    "df_alg_vs_k"
   ]
  },
  {
   "cell_type": "code",
   "execution_count": 11,
   "metadata": {},
   "outputs": [],
   "source": [
    "df_alg_vs_k.to_csv(\"Tables/alg_k\")"
   ]
  },
  {
   "cell_type": "code",
   "execution_count": 12,
   "metadata": {},
   "outputs": [
    {
     "data": {
      "text/plain": [
       "array([[0.14308447, 0.25793702, 0.28253336],\n",
       "       [0.32056806, 0.1917826 , 0.14649824],\n",
       "       [0.30952699, 0.30686548, 0.31273548],\n",
       "       [0.22226946, 0.23040506, 0.21782807]])"
      ]
     },
     "execution_count": 12,
     "metadata": {},
     "output_type": "execute_result"
    }
   ],
   "source": [
    "scoreall_kmeans"
   ]
  },
  {
   "cell_type": "code",
   "execution_count": 13,
   "metadata": {},
   "outputs": [],
   "source": [
    "scoreall_kmeans = pd.DataFrame(scoreall_kmeans, columns = K, index = red)\n",
    "scoreall_spectural = pd.DataFrame(scoreall_spectural, columns = K, index = ['DF','SVD'])\n",
    "scoreall_gaussian = pd.DataFrame(scoreall_gaussian, columns = K, index = red)\n",
    "\n",
    "\n",
    "scoreall_kmeans.to_csv(\"Tables/raw_kmeans\")\n",
    "scoreall_spectural.to_csv(\"Tables/raw_spectural\")\n",
    "scoreall_gaussian.to_csv(\"Tables/raw_gaussian\")"
   ]
  },
  {
   "cell_type": "code",
   "execution_count": 14,
   "metadata": {},
   "outputs": [
    {
     "name": "stdout",
     "output_type": "stream",
     "text": [
      "DF_gaussian_runtime.csv\n",
      "PCA_gaussian_runtime.csv\n",
      "SVD_gaussian_runtime.csv\n",
      "TSNE_gaussian_runtime.csv\n",
      "DF_kmeans_runtime.csv\n",
      "PCA_kmeans_runtime.csv\n",
      "SVD_kmeans_runtime.csv\n",
      "TSNE_kmeans_runtime.csv\n",
      "DF_spectural_runtime.csv\n",
      "PCA_spectural_runtime.csv\n"
     ]
    }
   ],
   "source": [
    "scoreall_gaussian = np.zeros(3)\n",
    "scoreall_gaussian = scoreall_gaussian.reshape(1,3)\n",
    "for file in sorted(os.listdir(directory)):\n",
    "    filename = os.fsdecode(file)\n",
    "    if filename.endswith(\"_gaussian_runtime.csv\"): \n",
    "        print(filename)\n",
    "        filename = os.path.join(\"Raw_scores\", filename)\n",
    "        df = pd.read_csv(filename, header=None)\n",
    "        df = np.asarray(df)\n",
    "        \n",
    "        scoreall_gaussian = np.concatenate((scoreall_gaussian, df.reshape(1,3)), axis=0)\n",
    "        continue\n",
    "    else:\n",
    "        continue\n",
    "scoreall_gaussian = scoreall_gaussian[1:5,:]\n",
    "\n",
    "\n",
    "scoreall_kmeans = np.zeros(3)\n",
    "scoreall_kmeans = scoreall_kmeans.reshape(1,3)\n",
    "for file in sorted(os.listdir(directory)):\n",
    "    filename = os.fsdecode(file)\n",
    "    if filename.endswith(\"_kmeans_runtime.csv\"): \n",
    "        print(filename)\n",
    "        filename = os.path.join(\"Raw_scores\", filename)\n",
    "        df = pd.read_csv(filename, header=None)\n",
    "        df = np.asarray(df)\n",
    "        \n",
    "        scoreall_kmeans = np.concatenate((scoreall_kmeans, df.reshape(1,3)), axis=0)\n",
    "        continue\n",
    "    else:\n",
    "        continue\n",
    "scoreall_kmeans = scoreall_kmeans[1:5,:]\n",
    "\n",
    "scoreall_spectural = np.zeros(3)\n",
    "scoreall_spectural = scoreall_spectural.reshape(1,3)\n",
    "for file in sorted(os.listdir(directory)):\n",
    "    filename = os.fsdecode(file)\n",
    "    if filename.endswith(\"_spectural_runtime.csv\"): \n",
    "        print(filename)\n",
    "        filename = os.path.join(\"Raw_scores\", filename)\n",
    "        df = pd.read_csv(filename, header=None)\n",
    "        df = np.asarray(df)\n",
    "        \n",
    "        scoreall_spectural = np.concatenate((scoreall_spectural, df.reshape(1,3)), axis=0)\n",
    "        continue\n",
    "    else:\n",
    "        continue\n",
    "scoreall_spectural = scoreall_spectural[1:5,:]\n"
   ]
  },
  {
   "cell_type": "code",
   "execution_count": 15,
   "metadata": {},
   "outputs": [],
   "source": [
    "runtime_np = np.concatenate((np.mean(scoreall_gaussian,axis=0).reshape(1,3), np.mean(scoreall_kmeans,axis=0).reshape(1,3)), axis=0)\n",
    "\n",
    "runtime_np = np.concatenate((runtime_np, np.mean(scoreall_spectural,axis=0).reshape(1,3)),axis=0)\n",
    "\n",
    "df_runtime = pd.DataFrame(runtime_np, columns = K, index = alg)"
   ]
  },
  {
   "cell_type": "code",
   "execution_count": 16,
   "metadata": {},
   "outputs": [],
   "source": [
    "df_runtime.to_csv(\"Tables/alg_k_runtime\")"
   ]
  }
 ],
 "metadata": {
  "kernelspec": {
   "display_name": "Python 3",
   "language": "python",
   "name": "python3"
  },
  "language_info": {
   "codemirror_mode": {
    "name": "ipython",
    "version": 3
   },
   "file_extension": ".py",
   "mimetype": "text/x-python",
   "name": "python",
   "nbconvert_exporter": "python",
   "pygments_lexer": "ipython3",
   "version": "3.7.6"
  }
 },
 "nbformat": 4,
 "nbformat_minor": 4
}
