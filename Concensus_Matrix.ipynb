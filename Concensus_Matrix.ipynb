{
 "cells": [
  {
   "cell_type": "code",
   "execution_count": 23,
   "metadata": {},
   "outputs": [],
   "source": [
    "import pandas as pd\n",
    "import numpy as np\n",
    "import seaborn as sns\n",
    "from tqdm import tqdm\n",
    "sns.set(rc={'figure.figsize':(11.7,8.27)})\n"
   ]
  },
  {
   "cell_type": "code",
   "execution_count": 60,
   "metadata": {},
   "outputs": [],
   "source": [
    "def build_cc(df):\n",
    "    total_runs=len(df.iloc[0,])\n",
    "    cc=np.zeros((len(df),len(df)))\n",
    "    for row_idx in tqdm(range(len(cc))):\n",
    "        for col_idx in range(len(cc)):\n",
    "            if(row_idx>col_idx):\n",
    "                cc[row_idx,col_idx]=cc[col_idx,row_idx]\n",
    "            cell1=df.iloc[row_idx,]\n",
    "            cell2=df.iloc[col_idx,]\n",
    "            \n",
    "            num_same_cluster=0\n",
    "            for i,j in zip(cell1,cell2):\n",
    "                if(i==j):\n",
    "                    num_same_cluster+=1\n",
    "            cc[row_idx,col_idx]=num_same_cluster/total_runs\n",
    "    AMB=((0.2<cc)&(cc<0.8)).sum()/4100**2\n",
    "    print(-np.log(AMB))\n",
    "    return cc\n",
    "            "
   ]
  },
  {
   "cell_type": "code",
   "execution_count": 4,
   "metadata": {},
   "outputs": [],
   "source": [
    "# diffuison map\n",
    "df=pd.read_csv(\"DF_kmeans_ypred25.csv\",header=None)\n",
    "DF_kmeans_ypred25=build_cc(df)\n",
    "DF_kmeans_ypred25_AMB=3.4289948092060056"
   ]
  },
  {
   "cell_type": "code",
   "execution_count": 61,
   "metadata": {},
   "outputs": [
    {
     "name": "stderr",
     "output_type": "stream",
     "text": [
      "100%|██████████| 4100/4100 [42:53<00:00,  1.59it/s]"
     ]
    },
    {
     "name": "stdout",
     "output_type": "stream",
     "text": [
      "3.9227766332579432\n"
     ]
    },
    {
     "name": "stderr",
     "output_type": "stream",
     "text": [
      "\n"
     ]
    }
   ],
   "source": [
    "df=pd.read_csv(\"DF_gaussian_ypred25.csv\",header=None)\n",
    "DF_gaussian_ypred25=build_cc(df)"
   ]
  },
  {
   "cell_type": "code",
   "execution_count": 62,
   "metadata": {},
   "outputs": [
    {
     "name": "stderr",
     "output_type": "stream",
     "text": [
      "100%|██████████| 4100/4100 [42:39<00:00,  1.60it/s]"
     ]
    },
    {
     "name": "stdout",
     "output_type": "stream",
     "text": [
      "2.5484901957686357\n"
     ]
    },
    {
     "name": "stderr",
     "output_type": "stream",
     "text": [
      "\n"
     ]
    }
   ],
   "source": [
    "df=pd.read_csv(\"PCA_gaussian_ypred25.csv\",header=None)\n",
    "PCA_gaussian_ypred25=build_cc(df)"
   ]
  },
  {
   "cell_type": "code",
   "execution_count": 63,
   "metadata": {},
   "outputs": [
    {
     "name": "stderr",
     "output_type": "stream",
     "text": [
      "100%|██████████| 4100/4100 [42:46<00:00,  1.60it/s] "
     ]
    },
    {
     "name": "stdout",
     "output_type": "stream",
     "text": [
      "2.8074637316329305\n"
     ]
    },
    {
     "name": "stderr",
     "output_type": "stream",
     "text": [
      "\n"
     ]
    }
   ],
   "source": [
    "df=pd.read_csv(\"PCA_kmeans_ypred25.csv\",header=None)\n",
    "PCA_kmeans_ypred25=build_cc(df)"
   ]
  },
  {
   "cell_type": "code",
   "execution_count": 64,
   "metadata": {},
   "outputs": [
    {
     "name": "stderr",
     "output_type": "stream",
     "text": [
      "100%|██████████| 4100/4100 [43:07<00:00,  1.58it/s] "
     ]
    },
    {
     "name": "stdout",
     "output_type": "stream",
     "text": [
      "3.240244698909637\n"
     ]
    },
    {
     "name": "stderr",
     "output_type": "stream",
     "text": [
      "\n"
     ]
    }
   ],
   "source": [
    "df=pd.read_csv(\"SVD_gaussian_ypred25.csv\",header=None)\n",
    "SVD_gaussian_ypred25=build_cc(df)"
   ]
  },
  {
   "cell_type": "code",
   "execution_count": 65,
   "metadata": {},
   "outputs": [
    {
     "name": "stderr",
     "output_type": "stream",
     "text": [
      "100%|██████████| 4100/4100 [42:44<00:00,  1.60it/s]"
     ]
    },
    {
     "name": "stdout",
     "output_type": "stream",
     "text": [
      "3.1709755497480936\n"
     ]
    },
    {
     "name": "stderr",
     "output_type": "stream",
     "text": [
      "\n"
     ]
    }
   ],
   "source": [
    "df=pd.read_csv(\"SVD_kmeans_ypred25.csv\",header=None)\n",
    "SVD_kmeans_ypred25=build_cc(df)"
   ]
  },
  {
   "cell_type": "code",
   "execution_count": 66,
   "metadata": {},
   "outputs": [
    {
     "name": "stderr",
     "output_type": "stream",
     "text": [
      "100%|██████████| 4100/4100 [45:15<00:00,  1.51it/s]"
     ]
    },
    {
     "name": "stdout",
     "output_type": "stream",
     "text": [
      "2.6765895796733896\n"
     ]
    },
    {
     "name": "stderr",
     "output_type": "stream",
     "text": [
      "\n"
     ]
    }
   ],
   "source": [
    "df=pd.read_csv(\"TSNE_gaussian_ypred25.csv\",header=None)\n",
    "TSNE_gaussian_ypred25=build_cc(df)"
   ]
  },
  {
   "cell_type": "code",
   "execution_count": 67,
   "metadata": {},
   "outputs": [
    {
     "name": "stderr",
     "output_type": "stream",
     "text": [
      "100%|██████████| 4100/4100 [42:59<00:00,  1.59it/s]"
     ]
    },
    {
     "name": "stdout",
     "output_type": "stream",
     "text": [
      "2.7566319991170105\n"
     ]
    },
    {
     "name": "stderr",
     "output_type": "stream",
     "text": [
      "\n"
     ]
    }
   ],
   "source": [
    "df=pd.read_csv(\"TSNE_kmeans_ypred25.csv\",header=None)\n",
    "TSNE_kmeans_ypred25=build_cc(df)"
   ]
  },
  {
   "cell_type": "code",
   "execution_count": 59,
   "metadata": {},
   "outputs": [
    {
     "data": {
      "text/plain": [
       "3.4289948092060056"
      ]
     },
     "execution_count": 59,
     "metadata": {},
     "output_type": "execute_result"
    }
   ],
   "source": [
    "DF_kmeans_ypred25_AMB=-np.log(((0.2<cc_diffusion)&(cc_diffusion<0.8)).sum()/4100**2)\n",
    "DF_kmeans_ypred25_AMB"
   ]
  },
  {
   "cell_type": "code",
   "execution_count": null,
   "metadata": {},
   "outputs": [],
   "source": []
  }
 ],
 "metadata": {
  "kernelspec": {
   "display_name": "Python 3",
   "language": "python",
   "name": "python3"
  },
  "language_info": {
   "codemirror_mode": {
    "name": "ipython",
    "version": 3
   },
   "file_extension": ".py",
   "mimetype": "text/x-python",
   "name": "python",
   "nbconvert_exporter": "python",
   "pygments_lexer": "ipython3",
   "version": "3.7.9"
  }
 },
 "nbformat": 4,
 "nbformat_minor": 4
}
